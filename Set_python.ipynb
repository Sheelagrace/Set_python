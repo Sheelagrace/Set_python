{
 "cells": [
  {
   "cell_type": "markdown",
   "id": "98444254",
   "metadata": {},
   "source": [
    "### Set"
   ]
  },
  {
   "cell_type": "code",
   "execution_count": 7,
   "id": "04e2d0a7",
   "metadata": {},
   "outputs": [
    {
     "data": {
      "text/plain": [
       "{1.5, 2, 200, 21, 3, 'Any', 'Hello1', 'any', 'hello', 'hi', 'sample'}"
      ]
     },
     "execution_count": 7,
     "metadata": {},
     "output_type": "execute_result"
    }
   ],
   "source": [
    "sample={\"sample\",\"hi\",\"hello\",\"any\",2,200,\"Hello1\",\"Any\",2,200,1.5,3,21}\n",
    "sample"
   ]
  },
  {
   "cell_type": "markdown",
   "id": "92de560d",
   "metadata": {},
   "source": [
    "#### set does not allow duplicates\n",
    "#### it gets arranged according to first number\n"
   ]
  },
  {
   "cell_type": "code",
   "execution_count": 8,
   "id": "92adaac2",
   "metadata": {},
   "outputs": [
    {
     "ename": "TypeError",
     "evalue": "'set' object is not subscriptable",
     "output_type": "error",
     "traceback": [
      "\u001b[1;31m---------------------------------------------------------------------------\u001b[0m",
      "\u001b[1;31mTypeError\u001b[0m                                 Traceback (most recent call last)",
      "Cell \u001b[1;32mIn[8], line 1\u001b[0m\n\u001b[1;32m----> 1\u001b[0m sample[\u001b[38;5;241m0\u001b[39m]\n",
      "\u001b[1;31mTypeError\u001b[0m: 'set' object is not subscriptable"
     ]
    }
   ],
   "source": [
    "sample[0]"
   ]
  },
  {
   "cell_type": "markdown",
   "id": "bbbb23d7",
   "metadata": {},
   "source": [
    "#### we cannot retrieve element with index"
   ]
  },
  {
   "cell_type": "code",
   "execution_count": 9,
   "id": "a7fb5402",
   "metadata": {},
   "outputs": [
    {
     "ename": "TypeError",
     "evalue": "'set' object does not support item assignment",
     "output_type": "error",
     "traceback": [
      "\u001b[1;31m---------------------------------------------------------------------------\u001b[0m",
      "\u001b[1;31mTypeError\u001b[0m                                 Traceback (most recent call last)",
      "Cell \u001b[1;32mIn[9], line 1\u001b[0m\n\u001b[1;32m----> 1\u001b[0m sample[\u001b[38;5;241m0\u001b[39m]\u001b[38;5;241m=\u001b[39m\u001b[38;5;241m100\u001b[39m\n",
      "\u001b[1;31mTypeError\u001b[0m: 'set' object does not support item assignment"
     ]
    }
   ],
   "source": [
    "sample[0]=100"
   ]
  },
  {
   "cell_type": "code",
   "execution_count": 10,
   "id": "18c1f648",
   "metadata": {},
   "outputs": [
    {
     "data": {
      "text/plain": [
       "{1.5, 2, 200, 21, 3, 'Any', 'Hello1', 'any', 'hello', 'hi', 'python', 'sample'}"
      ]
     },
     "execution_count": 10,
     "metadata": {},
     "output_type": "execute_result"
    }
   ],
   "source": [
    "sample.add(\"python\")\n",
    "sample"
   ]
  },
  {
   "cell_type": "markdown",
   "id": "5830b6c9",
   "metadata": {},
   "source": [
    "### we cannot try to change the element through index, but we can actually add element to set\n",
    "#### set is mutable"
   ]
  },
  {
   "cell_type": "code",
   "execution_count": 12,
   "id": "11e5187c",
   "metadata": {},
   "outputs": [
    {
     "data": {
      "text/plain": [
       "{1.5,\n",
       " 10,\n",
       " 2,\n",
       " 200,\n",
       " 21,\n",
       " 3,\n",
       " 'Any',\n",
       " 'Hello1',\n",
       " 'any',\n",
       " 'hello',\n",
       " 'hi',\n",
       " 'python',\n",
       " 'sample'}"
      ]
     },
     "execution_count": 12,
     "metadata": {},
     "output_type": "execute_result"
    }
   ],
   "source": [
    "sample.add(10)\n",
    "sample"
   ]
  },
  {
   "cell_type": "code",
   "execution_count": 13,
   "id": "d1d99ab0",
   "metadata": {},
   "outputs": [
    {
     "data": {
      "text/plain": [
       "{1.5,\n",
       " 10,\n",
       " 2,\n",
       " 200,\n",
       " 21,\n",
       " 3,\n",
       " 'Any',\n",
       " 'Hello1',\n",
       " 'any',\n",
       " 'beet',\n",
       " 'hello',\n",
       " 'hi',\n",
       " 'python',\n",
       " 'sample'}"
      ]
     },
     "execution_count": 13,
     "metadata": {},
     "output_type": "execute_result"
    }
   ],
   "source": [
    "sample.add(\"beet\")\n",
    "sample"
   ]
  },
  {
   "cell_type": "markdown",
   "id": "ddad965e",
   "metadata": {},
   "source": [
    "#### set is mutable but not with the index"
   ]
  },
  {
   "cell_type": "code",
   "execution_count": 14,
   "id": "c28c9661",
   "metadata": {},
   "outputs": [
    {
     "data": {
      "text/plain": [
       "frozenset({100, 21, 'A', 'C'})"
      ]
     },
     "execution_count": 14,
     "metadata": {},
     "output_type": "execute_result"
    }
   ],
   "source": [
    "set_1=frozenset([\"A\",\"C\",100,21])\n",
    "set_1"
   ]
  },
  {
   "cell_type": "markdown",
   "id": "0fa2dc8c",
   "metadata": {},
   "source": [
    "#### frozenset is like a i do not want to change the data for example data security purpose"
   ]
  },
  {
   "cell_type": "code",
   "execution_count": null,
   "id": "9442f6ab",
   "metadata": {},
   "outputs": [],
   "source": []
  }
 ],
 "metadata": {
  "kernelspec": {
   "display_name": "Python 3 (ipykernel)",
   "language": "python",
   "name": "python3"
  },
  "language_info": {
   "codemirror_mode": {
    "name": "ipython",
    "version": 3
   },
   "file_extension": ".py",
   "mimetype": "text/x-python",
   "name": "python",
   "nbconvert_exporter": "python",
   "pygments_lexer": "ipython3",
   "version": "3.11.5"
  }
 },
 "nbformat": 4,
 "nbformat_minor": 5
}
